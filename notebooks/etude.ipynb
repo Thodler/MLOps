{
 "cells": [
  {
   "cell_type": "code",
   "execution_count": 25,
   "metadata": {},
   "outputs": [],
   "source": [
    "import sqlite3\n",
    "import yaml\n",
    "\n",
    "# Charger les configurations depuis config.yaml\n",
    "with open('../config.yaml', 'r') as file:\n",
    "    config = yaml.safe_load(file)"
   ]
  },
  {
   "cell_type": "code",
   "execution_count": null,
   "metadata": {
    "vscode": {
     "languageId": "ruby"
    }
   },
   "outputs": [
    {
     "name": "stdout",
     "output_type": "stream",
     "text": [
      "Chemin de la base de données : c:\\projets\\MLOps\\exo01\\data\\processed\\nyc_taxi_data.db\n",
      "          id  vendor_id      pickup_datetime     dropoff_datetime  \\\n",
      "0  id2875421          2  2016-03-14 17:24:55  2016-03-14 17:32:30   \n",
      "1  id2377394          1  2016-06-12 00:43:35  2016-06-12 00:54:38   \n",
      "2  id3858529          2  2016-01-19 11:35:24  2016-01-19 12:10:48   \n",
      "3  id3504673          2  2016-04-06 19:32:31  2016-04-06 19:39:40   \n",
      "4  id2181028          2  2016-03-26 13:30:55  2016-03-26 13:38:10   \n",
      "\n",
      "   passenger_count  pickup_longitude  pickup_latitude  dropoff_longitude  \\\n",
      "0                1        -73.982155        40.767937         -73.964630   \n",
      "1                1        -73.980415        40.738564         -73.999481   \n",
      "2                1        -73.979027        40.763939         -74.005333   \n",
      "3                1        -74.010040        40.719971         -74.012268   \n",
      "4                1        -73.973053        40.793209         -73.972923   \n",
      "\n",
      "   dropoff_latitude store_and_fwd_flag  trip_duration  \n",
      "0         40.765602                  N            455  \n",
      "1         40.731152                  N            663  \n",
      "2         40.710087                  N           2124  \n",
      "3         40.706718                  N            429  \n",
      "4         40.782520                  N            435  \n"
     ]
    }
   ],
   "source": [
    "import pandas as pd\n",
    "import sqlite3\n",
    "import os\n",
    "import yaml\n",
    "\n",
    "# Charger les configurations depuis config.yaml\n",
    "config_path = os.path.abspath('../config.yaml')\n",
    "with open(config_path, 'r') as file:\n",
    "    config = yaml.safe_load(file)\n",
    "\n",
    "# Construire le chemin correct pour la base de données\n",
    "db_path = os.path.abspath(os.path.join('..', config['path']['db_path']))\n",
    "print(f\"Chemin de la base de données : {db_path}\")\n",
    "\n",
    "# Vérifier si le fichier de la base de données existe\n",
    "if not os.path.exists(db_path):\n",
    "    print(f\"Erreur : Le fichier de la base de données n'existe pas à l'emplacement {db_path}\")\n",
    "else:\n",
    "    try:\n",
    "        # Ouvrir la connexion à la base de données\n",
    "        conn = sqlite3.connect(db_path)\n",
    "        \n",
    "        # Exécuter une requête pour lire les données de la table principale (par exemple, 'taxi_data')\n",
    "        sql_query = \"SELECT * FROM taxi_data\"\n",
    "        df_trips = pd.read_sql_query(sql_query, conn)\n",
    "        \n",
    "        # Fermer la connexion à la base de données\n",
    "        conn.close()\n",
    "        \n",
    "        # Afficher les premières lignes du dataframe\n",
    "        print(df_trips.head())\n",
    "    except sqlite3.OperationalError as e:\n",
    "        print(f\"Erreur opérationnelle : {e}\")\n",
    "    except Exception as e:\n",
    "        print(f\"Une erreur s'est produite : {e}\")"
   ]
  }
 ],
 "metadata": {
  "kernelspec": {
   "display_name": ".venv",
   "language": "python",
   "name": "python3"
  },
  "language_info": {
   "codemirror_mode": {
    "name": "ipython",
    "version": 3
   },
   "file_extension": ".py",
   "mimetype": "text/x-python",
   "name": "python",
   "nbconvert_exporter": "python",
   "pygments_lexer": "ipython3",
   "version": "3.12.6"
  }
 },
 "nbformat": 4,
 "nbformat_minor": 2
}
